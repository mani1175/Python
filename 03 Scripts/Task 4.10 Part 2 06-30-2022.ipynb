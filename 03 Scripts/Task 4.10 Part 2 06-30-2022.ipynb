{
 "cells": [
  {
   "cell_type": "code",
   "execution_count": 1,
   "id": "fbaf85e3",
   "metadata": {},
   "outputs": [],
   "source": [
    "#import libraries\n",
    "import pandas as pd\n",
    "import numpy as np\n",
    "import os\n",
    "import matplotlib.pyplot as plt\n",
    "import seaborn as sns\n",
    "import scipy"
   ]
  },
  {
   "cell_type": "code",
   "execution_count": 2,
   "id": "7c776cc0",
   "metadata": {},
   "outputs": [],
   "source": [
    "path =r\"C:\\Users\\ap101\\INSTACART BASKET ANALYSIS\""
   ]
  },
  {
   "cell_type": "code",
   "execution_count": 3,
   "id": "7e812130",
   "metadata": {},
   "outputs": [
    {
     "data": {
      "text/plain": [
       "'C:\\\\Users\\\\ap101\\\\INSTACART BASKET ANALYSIS'"
      ]
     },
     "execution_count": 3,
     "metadata": {},
     "output_type": "execute_result"
    }
   ],
   "source": [
    "path"
   ]
  },
  {
   "cell_type": "code",
   "execution_count": 4,
   "id": "dfb094d9",
   "metadata": {},
   "outputs": [],
   "source": [
    "df_ord_prods_cust_new = pd.read_pickle(os.path.join(path, '02 Data','Prepared Data','Task_4.10.pkl'))"
   ]
  },
  {
   "cell_type": "code",
   "execution_count": 5,
   "id": "fbdcb82c",
   "metadata": {},
   "outputs": [
    {
     "data": {
      "text/plain": [
       "(32641268, 37)"
      ]
     },
     "execution_count": 5,
     "metadata": {},
     "output_type": "execute_result"
    }
   ],
   "source": [
    "df_ord_prods_cust_new.shape"
   ]
  },
  {
   "cell_type": "markdown",
   "id": "f8dd702e",
   "metadata": {},
   "source": [
    "# Key Questions from Prject Brief"
   ]
  },
  {
   "cell_type": "markdown",
   "id": "362f840f",
   "metadata": {},
   "source": [
    "1. The sales team needs to know what the busiest days of the week and hours of the days are."
   ]
  },
  {
   "cell_type": "code",
   "execution_count": 9,
   "id": "b4eee01c",
   "metadata": {},
   "outputs": [
    {
     "data": {
      "image/png": "[encoded data removed]",
      "text/plain": [
       "<Figure size 432x288 with 1 Axes>"
      ]
     },
     "metadata": {
      "needs_background": "light"
     },
     "output_type": "display_data"
    }
   ],
   "source": [
    "orders_day_of_week = df_ord_prods_cust_new['orders_day_of_week'].value_counts().sort_index().plot.bar(title = 'Orders in one day', color=['blue'])"
   ]
  },
  {
   "cell_type": "code",
   "execution_count": 10,
   "id": "de42b33d",
   "metadata": {},
   "outputs": [],
   "source": [
    "# Export file\n",
    "orders_day_of_week.figure.savefig(os.path.join(path, '04 Analysis','Visualizations', '_bargraph_orders_day_of_week.png'))"
   ]
  },
  {
   "cell_type": "code",
   "execution_count": 11,
   "id": "435e3cbb",
   "metadata": {},
   "outputs": [],
   "source": [
    "crosstab_busiestday_week = pd.crosstab(df_ord_prods_cust_new['orders_day_of_week'], df_ord_prods_cust_new['busiest_day'], dropna = False )"
   ]
  },
  {
   "cell_type": "code",
   "execution_count": 12,
   "id": "f0a94f23",
   "metadata": {},
   "outputs": [
    {
     "data": {
      "text/html": [
       "<div>\n",
       "<style scoped>\n",
       "    .dataframe tbody tr th:only-of-type {\n",
       "        vertical-align: middle;\n",
       "    }\n",
       "\n",
       "    .dataframe tbody tr th {\n",
       "        vertical-align: top;\n",
       "    }\n",
       "\n",
       "    .dataframe thead th {\n",
       "        text-align: right;\n",
       "    }\n",
       "</style>\n",
       "<table border=\"1\" class=\"dataframe\">\n",
       "  <thead>\n",
       "    <tr style=\"text-align: right;\">\n",
       "      <th>busiest_day</th>\n",
       "      <th>Busiest day</th>\n",
       "      <th>Least busy</th>\n",
       "      <th>Regularly busy</th>\n",
       "    </tr>\n",
       "    <tr>\n",
       "      <th>orders_day_of_week</th>\n",
       "      <th></th>\n",
       "      <th></th>\n",
       "      <th></th>\n",
       "    </tr>\n",
       "  </thead>\n",
       "  <tbody>\n",
       "    <tr>\n",
       "      <th>0</th>\n",
       "      <td>6252941</td>\n",
       "      <td>0</td>\n",
       "      <td>0</td>\n",
       "    </tr>\n",
       "    <tr>\n",
       "      <th>1</th>\n",
       "      <td>0</td>\n",
       "      <td>0</td>\n",
       "      <td>5696724</td>\n",
       "    </tr>\n",
       "    <tr>\n",
       "      <th>2</th>\n",
       "      <td>0</td>\n",
       "      <td>0</td>\n",
       "      <td>4243173</td>\n",
       "    </tr>\n",
       "    <tr>\n",
       "      <th>3</th>\n",
       "      <td>0</td>\n",
       "      <td>0</td>\n",
       "      <td>3868747</td>\n",
       "    </tr>\n",
       "    <tr>\n",
       "      <th>4</th>\n",
       "      <td>0</td>\n",
       "      <td>3812390</td>\n",
       "      <td>0</td>\n",
       "    </tr>\n",
       "    <tr>\n",
       "      <th>5</th>\n",
       "      <td>0</td>\n",
       "      <td>0</td>\n",
       "      <td>4236989</td>\n",
       "    </tr>\n",
       "    <tr>\n",
       "      <th>6</th>\n",
       "      <td>0</td>\n",
       "      <td>0</td>\n",
       "      <td>4530304</td>\n",
       "    </tr>\n",
       "  </tbody>\n",
       "</table>\n",
       "</div>"
      ],
      "text/plain": [
       "busiest_day         Busiest day  Least busy  Regularly busy\n",
       "orders_day_of_week                                         \n",
       "0                       6252941           0               0\n",
       "1                             0           0         5696724\n",
       "2                             0           0         4243173\n",
       "3                             0           0         3868747\n",
       "4                             0     3812390               0\n",
       "5                             0           0         4236989\n",
       "6                             0           0         4530304"
      ]
     },
     "execution_count": 12,
     "metadata": {},
     "output_type": "execute_result"
    }
   ],
   "source": [
    "crosstab_busiestday_week"
   ]
  },
  {
   "cell_type": "code",
   "execution_count": 13,
   "id": "bd54ebc7",
   "metadata": {},
   "outputs": [
    {
     "data": {
      "image/png": "[encoded data removed]",
      "text/plain": [
       "<Figure size 432x288 with 1 Axes>"
      ]
     },
     "metadata": {
      "needs_background": "light"
     },
     "output_type": "display_data"
    }
   ],
   "source": [
    "crosstab_busiestday_week = crosstab_busiestday_week.plot(kind = 'bar', stacked = True, title = 'Orders in one day')"
   ]
  },
  {
   "cell_type": "code",
   "execution_count": 14,
   "id": "f962e219",
   "metadata": {},
   "outputs": [],
   "source": [
    "# Export visualization\n",
    "crosstab_busiestday_week.figure.savefig(os.path.join(path, '04 Analysis','Visualizations', 'crosstab_busiestday_week.png'))"
   ]
  },
  {
   "cell_type": "markdown",
   "id": "caf8827b",
   "metadata": {},
   "source": [
    "2. They also want to know whether there are particular times of the day when people spend the most money, as this might inform the type of products they advertise at these times"
   ]
  },
  {
   "cell_type": "code",
   "execution_count": 18,
   "id": "d3725c28",
   "metadata": {},
   "outputs": [],
   "source": [
    "avg_per_hour = df_ord_prods_cust_new.groupby('order_hour_of_day').agg({'prices': ['mean']})"
   ]
  },
  {
   "cell_type": "code",
   "execution_count": 19,
   "id": "443b0918",
   "metadata": {
    "scrolled": true
   },
   "outputs": [
    {
     "data": {
      "image/png": "[encoded data removed]",
      "text/plain": [
       "<Figure size 432x288 with 1 Axes>"
      ]
     },
     "metadata": {
      "needs_background": "light"
     },
     "output_type": "display_data"
    }
   ],
   "source": [
    "avg_per_hour_chart = sns.lineplot(data = avg_price_per_hour)"
   ]
  },
  {
   "cell_type": "code",
   "execution_count": 20,
   "id": "6ff4486a",
   "metadata": {},
   "outputs": [],
   "source": [
    "# Export visual\n",
    "avg_per_hour_chart.figure.savefig(os.path.join(path, '04 Analysis', 'Visualizations', 'avg_price_per_hour.png'))"
   ]
  },
  {
   "cell_type": "code",
   "execution_count": 21,
   "id": "8f0c7fe4",
   "metadata": {},
   "outputs": [],
   "source": [
    "crosstab_busy_hour_day = pd.crosstab(df_ord_prods_cust_new['order_hour_of_day'], df_ord_prods_cust_new['busiest_day'], dropna = False )"
   ]
  },
  {
   "cell_type": "code",
   "execution_count": 22,
   "id": "13c64446",
   "metadata": {},
   "outputs": [
    {
     "data": {
      "text/html": [
       "<div>\n",
       "<style scoped>\n",
       "    .dataframe tbody tr th:only-of-type {\n",
       "        vertical-align: middle;\n",
       "    }\n",
       "\n",
       "    .dataframe tbody tr th {\n",
       "        vertical-align: top;\n",
       "    }\n",
       "\n",
       "    .dataframe thead th {\n",
       "        text-align: right;\n",
       "    }\n",
       "</style>\n",
       "<table border=\"1\" class=\"dataframe\">\n",
       "  <thead>\n",
       "    <tr style=\"text-align: right;\">\n",
       "      <th>busiest_day</th>\n",
       "      <th>Busiest day</th>\n",
       "      <th>Least busy</th>\n",
       "      <th>Regularly busy</th>\n",
       "    </tr>\n",
       "    <tr>\n",
       "      <th>order_hour_of_day</th>\n",
       "      <th></th>\n",
       "      <th></th>\n",
       "      <th></th>\n",
       "    </tr>\n",
       "  </thead>\n",
       "  <tbody>\n",
       "    <tr>\n",
       "      <th>0</th>\n",
       "      <td>39121</td>\n",
       "      <td>24885</td>\n",
       "      <td>156331</td>\n",
       "    </tr>\n",
       "    <tr>\n",
       "      <th>1</th>\n",
       "      <td>22687</td>\n",
       "      <td>13628</td>\n",
       "      <td>80274</td>\n",
       "    </tr>\n",
       "    <tr>\n",
       "      <th>2</th>\n",
       "      <td>12835</td>\n",
       "      <td>8041</td>\n",
       "      <td>49028</td>\n",
       "    </tr>\n",
       "    <tr>\n",
       "      <th>3</th>\n",
       "      <td>8926</td>\n",
       "      <td>6376</td>\n",
       "      <td>36373</td>\n",
       "    </tr>\n",
       "    <tr>\n",
       "      <th>4</th>\n",
       "      <td>8435</td>\n",
       "      <td>6960</td>\n",
       "      <td>38241</td>\n",
       "    </tr>\n",
       "    <tr>\n",
       "      <th>5</th>\n",
       "      <td>11724</td>\n",
       "      <td>12088</td>\n",
       "      <td>64849</td>\n",
       "    </tr>\n",
       "    <tr>\n",
       "      <th>6</th>\n",
       "      <td>35178</td>\n",
       "      <td>40103</td>\n",
       "      <td>217252</td>\n",
       "    </tr>\n",
       "    <tr>\n",
       "      <th>7</th>\n",
       "      <td>134276</td>\n",
       "      <td>114176</td>\n",
       "      <td>648711</td>\n",
       "    </tr>\n",
       "    <tr>\n",
       "      <th>8</th>\n",
       "      <td>308390</td>\n",
       "      <td>195367</td>\n",
       "      <td>1226114</td>\n",
       "    </tr>\n",
       "    <tr>\n",
       "      <th>9</th>\n",
       "      <td>444111</td>\n",
       "      <td>271793</td>\n",
       "      <td>1755163</td>\n",
       "    </tr>\n",
       "    <tr>\n",
       "      <th>10</th>\n",
       "      <td>519619</td>\n",
       "      <td>307952</td>\n",
       "      <td>1953438</td>\n",
       "    </tr>\n",
       "    <tr>\n",
       "      <th>11</th>\n",
       "      <td>539421</td>\n",
       "      <td>302879</td>\n",
       "      <td>1913069</td>\n",
       "    </tr>\n",
       "    <tr>\n",
       "      <th>12</th>\n",
       "      <td>539014</td>\n",
       "      <td>291327</td>\n",
       "      <td>1807192</td>\n",
       "    </tr>\n",
       "    <tr>\n",
       "      <th>13</th>\n",
       "      <td>562284</td>\n",
       "      <td>295548</td>\n",
       "      <td>1822339</td>\n",
       "    </tr>\n",
       "    <tr>\n",
       "      <th>14</th>\n",
       "      <td>568978</td>\n",
       "      <td>298963</td>\n",
       "      <td>1841143</td>\n",
       "    </tr>\n",
       "    <tr>\n",
       "      <th>15</th>\n",
       "      <td>556011</td>\n",
       "      <td>301498</td>\n",
       "      <td>1824581</td>\n",
       "    </tr>\n",
       "    <tr>\n",
       "      <th>16</th>\n",
       "      <td>505151</td>\n",
       "      <td>300175</td>\n",
       "      <td>1748784</td>\n",
       "    </tr>\n",
       "    <tr>\n",
       "      <th>17</th>\n",
       "      <td>398601</td>\n",
       "      <td>255899</td>\n",
       "      <td>1449725</td>\n",
       "    </tr>\n",
       "    <tr>\n",
       "      <th>18</th>\n",
       "      <td>286748</td>\n",
       "      <td>209081</td>\n",
       "      <td>1154041</td>\n",
       "    </tr>\n",
       "    <tr>\n",
       "      <th>19</th>\n",
       "      <td>219034</td>\n",
       "      <td>170167</td>\n",
       "      <td>879164</td>\n",
       "    </tr>\n",
       "    <tr>\n",
       "      <th>20</th>\n",
       "      <td>185125</td>\n",
       "      <td>131447</td>\n",
       "      <td>666660</td>\n",
       "    </tr>\n",
       "    <tr>\n",
       "      <th>21</th>\n",
       "      <td>154141</td>\n",
       "      <td>109022</td>\n",
       "      <td>537889</td>\n",
       "    </tr>\n",
       "    <tr>\n",
       "      <th>22</th>\n",
       "      <td>121636</td>\n",
       "      <td>90011</td>\n",
       "      <td>427024</td>\n",
       "    </tr>\n",
       "    <tr>\n",
       "      <th>23</th>\n",
       "      <td>71495</td>\n",
       "      <td>55004</td>\n",
       "      <td>278552</td>\n",
       "    </tr>\n",
       "  </tbody>\n",
       "</table>\n",
       "</div>"
      ],
      "text/plain": [
       "busiest_day        Busiest day  Least busy  Regularly busy\n",
       "order_hour_of_day                                         \n",
       "0                        39121       24885          156331\n",
       "1                        22687       13628           80274\n",
       "2                        12835        8041           49028\n",
       "3                         8926        6376           36373\n",
       "4                         8435        6960           38241\n",
       "5                        11724       12088           64849\n",
       "6                        35178       40103          217252\n",
       "7                       134276      114176          648711\n",
       "8                       308390      195367         1226114\n",
       "9                       444111      271793         1755163\n",
       "10                      519619      307952         1953438\n",
       "11                      539421      302879         1913069\n",
       "12                      539014      291327         1807192\n",
       "13                      562284      295548         1822339\n",
       "14                      568978      298963         1841143\n",
       "15                      556011      301498         1824581\n",
       "16                      505151      300175         1748784\n",
       "17                      398601      255899         1449725\n",
       "18                      286748      209081         1154041\n",
       "19                      219034      170167          879164\n",
       "20                      185125      131447          666660\n",
       "21                      154141      109022          537889\n",
       "22                      121636       90011          427024\n",
       "23                       71495       55004          278552"
      ]
     },
     "execution_count": 22,
     "metadata": {},
     "output_type": "execute_result"
    }
   ],
   "source": [
    "crosstab_busy_hour_day"
   ]
  },
  {
   "cell_type": "code",
   "execution_count": 24,
   "id": "ecae392c",
   "metadata": {},
   "outputs": [
    {
     "data": {
      "image/png": "[encoded data removed]",
      "text/plain": [
       "<Figure size 432x288 with 1 Axes>"
      ]
     },
     "metadata": {
      "needs_background": "light"
     },
     "output_type": "display_data"
    }
   ],
   "source": [
    "crosstab_busy_hour_day = crosstab_busy_hour_day.plot(kind = 'bar', stacked = True)"
   ]
  },
  {
   "cell_type": "code",
   "execution_count": 25,
   "id": "a2df3d0a",
   "metadata": {},
   "outputs": [],
   "source": [
    "# Export visualization\n",
    "crosstab_busy_hour_day.figure.savefig(os.path.join(path, '04 Analysis','Visualizations', 'crosstab_busy_hour_day.png'))"
   ]
  },
  {
   "cell_type": "markdown",
   "id": "b9a25f7e",
   "metadata": {},
   "source": [
    "3. Instacart has alot of products with different price tags. Marketing and sales want to use simpler price range groupins to help direct their efforts. "
   ]
  },
  {
   "cell_type": "code",
   "execution_count": 27,
   "id": "14977ebd",
   "metadata": {
    "scrolled": true
   },
   "outputs": [
    {
     "data": {
      "image/png": "[encoded data removed]",
      "text/plain": [
       "<Figure size 432x288 with 1 Axes>"
      ]
     },
     "metadata": {},
     "output_type": "display_data"
    }
   ],
   "source": [
    "pricerange_loc = df_ord_prods_cust_new['price_range_loc'].value_counts().sort_index().plot.pie(ylabel = 'Price range', autopct = '%1.1f%%')"
   ]
  },
  {
   "cell_type": "code",
   "execution_count": 28,
   "id": "77f1fe8d",
   "metadata": {},
   "outputs": [],
   "source": [
    "pricerange_loc.figure.savefig(os.path.join(path, '04 Analysis','Visualizations', 'price_range.png'))"
   ]
  },
  {
   "cell_type": "markdown",
   "id": "687a129e",
   "metadata": {},
   "source": [
    "4. Are there certain types of products that are more popular than others? The marketing and sales teams want to know which departments have the highest frequency of product orders"
   ]
  },
  {
   "cell_type": "code",
   "execution_count": 40,
   "id": "91617374",
   "metadata": {},
   "outputs": [
    {
     "data": {
      "text/plain": [
       "Banana                                     472565\n",
       "Bag of Organic Bananas                     379450\n",
       "Organic Strawberries                       264683\n",
       "Organic Baby Spinach                       241921\n",
       "NaN                                        236409\n",
       "                                            ...  \n",
       "Kefir Raspberry                                 1\n",
       "Hot Chili with Beans                            1\n",
       "Spinach Cheese Rice Palak Paneer Dinner         1\n",
       "Coconut Bliss Pineapple Coconut                 1\n",
       "Hot Oatmeal Multigrain Raisin                   1\n",
       "Name: product_name, Length: 49662, dtype: int64"
      ]
     },
     "execution_count": 40,
     "metadata": {},
     "output_type": "execute_result"
    }
   ],
   "source": [
    "df_ord_prods_cust_new['product_name'].value_counts(dropna = False)"
   ]
  },
  {
   "cell_type": "code",
   "execution_count": 41,
   "id": "729517c6",
   "metadata": {},
   "outputs": [],
   "source": [
    "crosstab_freq_prods = pd.crosstab(df_ord_prods_cust_new['department_id'], df_ord_prods_cust_new['frequency_flag'], dropna = False )"
   ]
  },
  {
   "cell_type": "code",
   "execution_count": 42,
   "id": "9585840f",
   "metadata": {},
   "outputs": [
    {
     "data": {
      "text/html": [
       "<div>\n",
       "<style scoped>\n",
       "    .dataframe tbody tr th:only-of-type {\n",
       "        vertical-align: middle;\n",
       "    }\n",
       "\n",
       "    .dataframe tbody tr th {\n",
       "        vertical-align: top;\n",
       "    }\n",
       "\n",
       "    .dataframe thead th {\n",
       "        text-align: right;\n",
       "    }\n",
       "</style>\n",
       "<table border=\"1\" class=\"dataframe\">\n",
       "  <thead>\n",
       "    <tr style=\"text-align: right;\">\n",
       "      <th>frequency_flag</th>\n",
       "      <th>Frequent customer</th>\n",
       "      <th>Non-frequent customer</th>\n",
       "      <th>Regular customer</th>\n",
       "    </tr>\n",
       "    <tr>\n",
       "      <th>department_id</th>\n",
       "      <th></th>\n",
       "      <th></th>\n",
       "      <th></th>\n",
       "    </tr>\n",
       "  </thead>\n",
       "  <tbody>\n",
       "    <tr>\n",
       "      <th>1.0</th>\n",
       "      <td>1392988</td>\n",
       "      <td>288174</td>\n",
       "      <td>553581</td>\n",
       "    </tr>\n",
       "    <tr>\n",
       "      <th>2.0</th>\n",
       "      <td>24041</td>\n",
       "      <td>4214</td>\n",
       "      <td>8036</td>\n",
       "    </tr>\n",
       "    <tr>\n",
       "      <th>3.0</th>\n",
       "      <td>781888</td>\n",
       "      <td>130089</td>\n",
       "      <td>260451</td>\n",
       "    </tr>\n",
       "    <tr>\n",
       "      <th>4.0</th>\n",
       "      <td>6457381</td>\n",
       "      <td>995663</td>\n",
       "      <td>2026247</td>\n",
       "    </tr>\n",
       "    <tr>\n",
       "      <th>5.0</th>\n",
       "      <td>102905</td>\n",
       "      <td>17953</td>\n",
       "      <td>32838</td>\n",
       "    </tr>\n",
       "    <tr>\n",
       "      <th>6.0</th>\n",
       "      <td>173710</td>\n",
       "      <td>33170</td>\n",
       "      <td>62373</td>\n",
       "    </tr>\n",
       "    <tr>\n",
       "      <th>7.0</th>\n",
       "      <td>1782602</td>\n",
       "      <td>305293</td>\n",
       "      <td>600228</td>\n",
       "    </tr>\n",
       "    <tr>\n",
       "      <th>8.0</th>\n",
       "      <td>59521</td>\n",
       "      <td>12005</td>\n",
       "      <td>26190</td>\n",
       "    </tr>\n",
       "    <tr>\n",
       "      <th>9.0</th>\n",
       "      <td>543529</td>\n",
       "      <td>111949</td>\n",
       "      <td>211149</td>\n",
       "    </tr>\n",
       "    <tr>\n",
       "      <th>10.0</th>\n",
       "      <td>25333</td>\n",
       "      <td>3083</td>\n",
       "      <td>6157</td>\n",
       "    </tr>\n",
       "    <tr>\n",
       "      <th>11.0</th>\n",
       "      <td>279437</td>\n",
       "      <td>59279</td>\n",
       "      <td>108856</td>\n",
       "    </tr>\n",
       "    <tr>\n",
       "      <th>12.0</th>\n",
       "      <td>456967</td>\n",
       "      <td>84911</td>\n",
       "      <td>167049</td>\n",
       "    </tr>\n",
       "    <tr>\n",
       "      <th>13.0</th>\n",
       "      <td>1214869</td>\n",
       "      <td>231090</td>\n",
       "      <td>429410</td>\n",
       "    </tr>\n",
       "    <tr>\n",
       "      <th>14.0</th>\n",
       "      <td>463165</td>\n",
       "      <td>80874</td>\n",
       "      <td>158994</td>\n",
       "    </tr>\n",
       "    <tr>\n",
       "      <th>15.0</th>\n",
       "      <td>671345</td>\n",
       "      <td>138093</td>\n",
       "      <td>258620</td>\n",
       "    </tr>\n",
       "    <tr>\n",
       "      <th>16.0</th>\n",
       "      <td>3672996</td>\n",
       "      <td>568698</td>\n",
       "      <td>1157053</td>\n",
       "    </tr>\n",
       "    <tr>\n",
       "      <th>17.0</th>\n",
       "      <td>445112</td>\n",
       "      <td>106929</td>\n",
       "      <td>186625</td>\n",
       "    </tr>\n",
       "    <tr>\n",
       "      <th>18.0</th>\n",
       "      <td>319451</td>\n",
       "      <td>32044</td>\n",
       "      <td>72307</td>\n",
       "    </tr>\n",
       "    <tr>\n",
       "      <th>19.0</th>\n",
       "      <td>1930963</td>\n",
       "      <td>318503</td>\n",
       "      <td>638084</td>\n",
       "    </tr>\n",
       "    <tr>\n",
       "      <th>20.0</th>\n",
       "      <td>684951</td>\n",
       "      <td>123319</td>\n",
       "      <td>242979</td>\n",
       "    </tr>\n",
       "    <tr>\n",
       "      <th>21.0</th>\n",
       "      <td>50077</td>\n",
       "      <td>5517</td>\n",
       "      <td>13551</td>\n",
       "    </tr>\n",
       "  </tbody>\n",
       "</table>\n",
       "</div>"
      ],
      "text/plain": [
       "frequency_flag  Frequent customer  Non-frequent customer  Regular customer\n",
       "department_id                                                             \n",
       "1.0                       1392988                 288174            553581\n",
       "2.0                         24041                   4214              8036\n",
       "3.0                        781888                 130089            260451\n",
       "4.0                       6457381                 995663           2026247\n",
       "5.0                        102905                  17953             32838\n",
       "6.0                        173710                  33170             62373\n",
       "7.0                       1782602                 305293            600228\n",
       "8.0                         59521                  12005             26190\n",
       "9.0                        543529                 111949            211149\n",
       "10.0                        25333                   3083              6157\n",
       "11.0                       279437                  59279            108856\n",
       "12.0                       456967                  84911            167049\n",
       "13.0                      1214869                 231090            429410\n",
       "14.0                       463165                  80874            158994\n",
       "15.0                       671345                 138093            258620\n",
       "16.0                      3672996                 568698           1157053\n",
       "17.0                       445112                 106929            186625\n",
       "18.0                       319451                  32044             72307\n",
       "19.0                      1930963                 318503            638084\n",
       "20.0                       684951                 123319            242979\n",
       "21.0                        50077                   5517             13551"
      ]
     },
     "execution_count": 42,
     "metadata": {},
     "output_type": "execute_result"
    }
   ],
   "source": [
    "crosstab_freq_prods"
   ]
  },
  {
   "cell_type": "code",
   "execution_count": 43,
   "id": "8ac128f6",
   "metadata": {},
   "outputs": [
    {
     "data": {
      "image/png": "[encoded data removed]",
      "text/plain": [
       "<Figure size 432x288 with 1 Axes>"
      ]
     },
     "metadata": {
      "needs_background": "light"
     },
     "output_type": "display_data"
    }
   ],
   "source": [
    "crosstab_freq_prods = crosstab_freq_prods.plot(kind = 'bar', stacked = True)"
   ]
  },
  {
   "cell_type": "code",
   "execution_count": 44,
   "id": "1acbfb41",
   "metadata": {},
   "outputs": [],
   "source": [
    "# Export file\n",
    "crosstab_freq_prods.figure.savefig(os.path.join(path, '04 Analysis','Visualizations', 'crosstab_freq_prods.png'))"
   ]
  },
  {
   "cell_type": "markdown",
   "id": "9cedd3f6",
   "metadata": {},
   "source": [
    "5. Whats the distribution among users in regards to their brand loyalty?"
   ]
  },
  {
   "cell_type": "code",
   "execution_count": 45,
   "id": "64512fe8",
   "metadata": {},
   "outputs": [],
   "source": [
    "loyal_cust = df_ord_prods_cust_new['loyalty_flag'].value_counts(dropna = False)"
   ]
  },
  {
   "cell_type": "code",
   "execution_count": 47,
   "id": "21d30eb9",
   "metadata": {},
   "outputs": [
    {
     "data": {
      "image/png": "[encoded data removed]",
      "text/plain": [
       "<Figure size 432x288 with 1 Axes>"
      ]
     },
     "metadata": {},
     "output_type": "display_data"
    }
   ],
   "source": [
    "loyal_cust = loyal_cust.plot.pie(autopct='%1.0f%%', title = 'User Loyalty Distribution', ylabel = 'Count (millions)')"
   ]
  },
  {
   "cell_type": "code",
   "execution_count": 48,
   "id": "3db76769",
   "metadata": {},
   "outputs": [],
   "source": [
    "# Export file\n",
    "loyal_cust.figure.savefig(os.path.join(path, '04 Analysis', 'Visualizations', 'loyal_cust.png'))"
   ]
  },
  {
   "cell_type": "markdown",
   "id": "1d8020fc",
   "metadata": {},
   "source": [
    "Are there differences in ordering habits based on customers loyalty status?"
   ]
  },
  {
   "cell_type": "code",
   "execution_count": 50,
   "id": "a47eacd6",
   "metadata": {},
   "outputs": [],
   "source": [
    "loyalty_avg = pd.crosstab(df_ord_prods_cust_new['loyalty_flag'], df_ord_prods_cust_new['spending_flag'], dropna = False)"
   ]
  },
  {
   "cell_type": "code",
   "execution_count": 51,
   "id": "c9158a8c",
   "metadata": {},
   "outputs": [
    {
     "data": {
      "image/png": "[encoded data removed]",
      "text/plain": [
       "<Figure size 432x288 with 1 Axes>"
      ]
     },
     "metadata": {
      "needs_background": "light"
     },
     "output_type": "display_data"
    }
   ],
   "source": [
    "loyalty_avg = loyalty_avg.plot.bar()"
   ]
  },
  {
   "cell_type": "code",
   "execution_count": 52,
   "id": "5b401d55",
   "metadata": {},
   "outputs": [],
   "source": [
    "# Export file\n",
    "loyalty_avg.figure.savefig(os.path.join(path, '04 Analysis', 'Visualizations', 'loyalty_avg.png'))"
   ]
  },
  {
   "cell_type": "markdown",
   "id": "846a17e2",
   "metadata": {},
   "source": [
    "Are there differences in ordering habits based on customer's region?"
   ]
  },
  {
   "cell_type": "code",
   "execution_count": 53,
   "id": "8ebdbe30",
   "metadata": {},
   "outputs": [],
   "source": [
    "loyalty_basedon_region = pd.crosstab(df_ord_prods_cust_new['region'], df_ord_prods_cust_new['loyalty_flag'], dropna = False)"
   ]
  },
  {
   "cell_type": "code",
   "execution_count": 54,
   "id": "ecb92fec",
   "metadata": {},
   "outputs": [
    {
     "data": {
      "image/png": "[encoded data removed]",
      "text/plain": [
       "<Figure size 432x288 with 1 Axes>"
      ]
     },
     "metadata": {
      "needs_background": "light"
     },
     "output_type": "display_data"
    }
   ],
   "source": [
    " loyalty_basedon_region = loyalty_basedon_region.plot.bar(stacked = True)"
   ]
  },
  {
   "cell_type": "code",
   "execution_count": 56,
   "id": "a4e802e6",
   "metadata": {},
   "outputs": [],
   "source": [
    "# Export visual\n",
    "loyalty_basedon_region.figure.savefig(os.path.join(path, '04 Analysis', 'Visualizations', 'loyalty_basedon_region.png'))"
   ]
  },
  {
   "cell_type": "markdown",
   "id": "0e92358a",
   "metadata": {},
   "source": [
    "Is there a connection between age and family status in terms of ordering habits?"
   ]
  },
  {
   "cell_type": "code",
   "execution_count": 60,
   "id": "34959efd",
   "metadata": {},
   "outputs": [],
   "source": [
    "order_habits = pd.crosstab(df_ord_prods_cust_new['loyalty_flag'], df_ord_prods_cust_new['number_of_dependants'], dropna = False)"
   ]
  },
  {
   "cell_type": "code",
   "execution_count": 61,
   "id": "46d09c8a",
   "metadata": {},
   "outputs": [
    {
     "data": {
      "image/png": "[encoded data removed]",
      "text/plain": [
       "<Figure size 432x288 with 1 Axes>"
      ]
     },
     "metadata": {
      "needs_background": "light"
     },
     "output_type": "display_data"
    }
   ],
   "source": [
    " order_habits = order_habits.plot.bar(stacked = True)"
   ]
  },
  {
   "cell_type": "code",
   "execution_count": 62,
   "id": "ee3052a1",
   "metadata": {},
   "outputs": [],
   "source": [
    "# Export visual\n",
    "order_habits.figure.savefig(os.path.join(path, '04 Analysis', 'Visualizations', 'order_habits.png'))"
   ]
  },
  {
   "cell_type": "code",
   "execution_count": null,
   "id": "0b3ab07e",
   "metadata": {},
   "outputs": [],
   "source": []
  }
 ],
 "metadata": {
  "kernelspec": {
   "display_name": "Python 3 (ipykernel)",
   "language": "python",
   "name": "python3"
  },
  "language_info": {
   "codemirror_mode": {
    "name": "ipython",
    "version": 3
   },
   "file_extension": ".py",
   "mimetype": "text/x-python",
   "name": "python",
   "nbconvert_exporter": "python",
   "pygments_lexer": "ipython3",
   "version": "3.9.12"
  }
 },
 "nbformat": 4,
 "nbformat_minor": 5
}
