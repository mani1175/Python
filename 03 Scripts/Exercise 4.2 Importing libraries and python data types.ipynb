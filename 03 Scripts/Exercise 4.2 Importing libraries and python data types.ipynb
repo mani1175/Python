{
 "cells": [
  {
   "cell_type": "markdown",
   "id": "273f2301",
   "metadata": {},
   "source": [
    "# 01. Importing libraries"
   ]
  },
  {
   "cell_type": "code",
   "execution_count": 3,
   "id": "653ada6f",
   "metadata": {},
   "outputs": [],
   "source": [
    "#import libraries\n",
    "import pandas as pd\n",
    "import numpy as np\n",
    "import os"
   ]
  },
  {
   "cell_type": "markdown",
   "id": "67748ca2",
   "metadata": {},
   "source": [
    "# 02. Python data types"
   ]
  },
  {
   "cell_type": "code",
   "execution_count": 4,
   "id": "a7696691",
   "metadata": {},
   "outputs": [],
   "source": [
    "x=50"
   ]
  },
  {
   "cell_type": "code",
   "execution_count": 5,
   "id": "71047fc4",
   "metadata": {},
   "outputs": [
    {
     "name": "stdout",
     "output_type": "stream",
     "text": [
      "50\n"
     ]
    }
   ],
   "source": [
    "print(x)"
   ]
  },
  {
   "cell_type": "code",
   "execution_count": 6,
   "id": "ba7fd4c0",
   "metadata": {},
   "outputs": [
    {
     "data": {
      "text/plain": [
       "100"
      ]
     },
     "execution_count": 6,
     "metadata": {},
     "output_type": "execute_result"
    }
   ],
   "source": [
    "x+50"
   ]
  },
  {
   "cell_type": "code",
   "execution_count": 14,
   "id": "6975675d",
   "metadata": {},
   "outputs": [],
   "source": [
    "x=120"
   ]
  },
  {
   "cell_type": "code",
   "execution_count": 17,
   "id": "b51cd51d",
   "metadata": {},
   "outputs": [
    {
     "name": "stdout",
     "output_type": "stream",
     "text": [
      "120\n"
     ]
    }
   ],
   "source": [
    "print(x)"
   ]
  },
  {
   "cell_type": "code",
   "execution_count": 20,
   "id": "9bea3aa6",
   "metadata": {},
   "outputs": [
    {
     "data": {
      "text/plain": [
       "100"
      ]
     },
     "execution_count": 20,
     "metadata": {},
     "output_type": "execute_result"
    }
   ],
   "source": [
    "x-20"
   ]
  },
  {
   "cell_type": "code",
   "execution_count": 21,
   "id": "7e0065c2",
   "metadata": {},
   "outputs": [],
   "source": [
    "x=30"
   ]
  },
  {
   "cell_type": "code",
   "execution_count": 22,
   "id": "012862ea",
   "metadata": {},
   "outputs": [
    {
     "name": "stdout",
     "output_type": "stream",
     "text": [
      "30\n"
     ]
    }
   ],
   "source": [
    "print(x)"
   ]
  },
  {
   "cell_type": "code",
   "execution_count": 23,
   "id": "96622d55",
   "metadata": {},
   "outputs": [
    {
     "data": {
      "text/plain": [
       "100"
      ]
     },
     "execution_count": 23,
     "metadata": {},
     "output_type": "execute_result"
    }
   ],
   "source": [
    "x+70"
   ]
  },
  {
   "cell_type": "markdown",
   "id": "bc6de837",
   "metadata": {},
   "source": [
    "# 03. Floating python data types"
   ]
  },
  {
   "cell_type": "code",
   "execution_count": 24,
   "id": "236a4331",
   "metadata": {},
   "outputs": [],
   "source": [
    "x=5.25"
   ]
  },
  {
   "cell_type": "code",
   "execution_count": 25,
   "id": "b3f9c166",
   "metadata": {},
   "outputs": [
    {
     "name": "stdout",
     "output_type": "stream",
     "text": [
      "5.25\n"
     ]
    }
   ],
   "source": [
    "print(x)"
   ]
  },
  {
   "cell_type": "code",
   "execution_count": 26,
   "id": "bac3d257",
   "metadata": {},
   "outputs": [
    {
     "data": {
      "text/plain": [
       "1.0"
      ]
     },
     "execution_count": 26,
     "metadata": {},
     "output_type": "execute_result"
    }
   ],
   "source": [
    "x/x"
   ]
  },
  {
   "cell_type": "code",
   "execution_count": 27,
   "id": "686607ac",
   "metadata": {},
   "outputs": [],
   "source": [
    "x=10.53"
   ]
  },
  {
   "cell_type": "code",
   "execution_count": 28,
   "id": "bbb1991a",
   "metadata": {},
   "outputs": [
    {
     "name": "stdout",
     "output_type": "stream",
     "text": [
      "10.53\n"
     ]
    }
   ],
   "source": [
    "print(x)"
   ]
  },
  {
   "cell_type": "code",
   "execution_count": 29,
   "id": "7ac60420",
   "metadata": {},
   "outputs": [],
   "source": [
    "y=2.80"
   ]
  },
  {
   "cell_type": "code",
   "execution_count": 30,
   "id": "c899f6e9",
   "metadata": {},
   "outputs": [
    {
     "name": "stdout",
     "output_type": "stream",
     "text": [
      "2.8\n"
     ]
    }
   ],
   "source": [
    "print(y)"
   ]
  },
  {
   "cell_type": "code",
   "execution_count": 31,
   "id": "d9a12e72",
   "metadata": {},
   "outputs": [
    {
     "data": {
      "text/plain": [
       "3.7607142857142857"
      ]
     },
     "execution_count": 31,
     "metadata": {},
     "output_type": "execute_result"
    }
   ],
   "source": [
    "x/y"
   ]
  },
  {
   "cell_type": "markdown",
   "id": "3e799420",
   "metadata": {},
   "source": [
    "# 04 Short word made of separate strings"
   ]
  },
  {
   "cell_type": "code",
   "execution_count": 32,
   "id": "34276194",
   "metadata": {},
   "outputs": [],
   "source": [
    "a = 'base'"
   ]
  },
  {
   "cell_type": "code",
   "execution_count": 33,
   "id": "13535a87",
   "metadata": {},
   "outputs": [],
   "source": [
    "b = 'ball'"
   ]
  },
  {
   "cell_type": "code",
   "execution_count": 34,
   "id": "95811c55",
   "metadata": {},
   "outputs": [
    {
     "data": {
      "text/plain": [
       "'baseball'"
      ]
     },
     "execution_count": 34,
     "metadata": {},
     "output_type": "execute_result"
    }
   ],
   "source": [
    "a+b"
   ]
  },
  {
   "cell_type": "markdown",
   "id": "3e5c53fc",
   "metadata": {},
   "source": [
    "# 05 Short sentences"
   ]
  },
  {
   "cell_type": "code",
   "execution_count": 35,
   "id": "813fd0c2",
   "metadata": {},
   "outputs": [],
   "source": [
    "a = 'how '"
   ]
  },
  {
   "cell_type": "code",
   "execution_count": 36,
   "id": "d7b9a905",
   "metadata": {},
   "outputs": [],
   "source": [
    "b='are '"
   ]
  },
  {
   "cell_type": "code",
   "execution_count": 43,
   "id": "404a3933",
   "metadata": {},
   "outputs": [],
   "source": [
    "c='you?'"
   ]
  },
  {
   "cell_type": "code",
   "execution_count": 44,
   "id": "4834c2cd",
   "metadata": {},
   "outputs": [
    {
     "data": {
      "text/plain": [
       "'howareyou?'"
      ]
     },
     "execution_count": 44,
     "metadata": {},
     "output_type": "execute_result"
    }
   ],
   "source": [
    "a + b + c"
   ]
  },
  {
   "cell_type": "code",
   "execution_count": 45,
   "id": "3c14e2e4",
   "metadata": {},
   "outputs": [],
   "source": [
    "d = 'I'"
   ]
  },
  {
   "cell_type": "code",
   "execution_count": 46,
   "id": "d48857ae",
   "metadata": {},
   "outputs": [],
   "source": [
    "e = 'am'"
   ]
  },
  {
   "cell_type": "code",
   "execution_count": 47,
   "id": "6514fbdc",
   "metadata": {},
   "outputs": [],
   "source": [
    "f ='fine'"
   ]
  },
  {
   "cell_type": "code",
   "execution_count": 48,
   "id": "cf17602e",
   "metadata": {},
   "outputs": [
    {
     "data": {
      "text/plain": [
       "'Iamfine'"
      ]
     },
     "execution_count": 48,
     "metadata": {},
     "output_type": "execute_result"
    }
   ],
   "source": [
    "d + e + f"
   ]
  },
  {
   "cell_type": "code",
   "execution_count": null,
   "id": "f3d2aaf6",
   "metadata": {},
   "outputs": [],
   "source": []
  }
 ],
 "metadata": {
  "kernelspec": {
   "display_name": "Python 3 (ipykernel)",
   "language": "python",
   "name": "python3"
  },
  "language_info": {
   "codemirror_mode": {
    "name": "ipython",
    "version": 3
   },
   "file_extension": ".py",
   "mimetype": "text/x-python",
   "name": "python",
   "nbconvert_exporter": "python",
   "pygments_lexer": "ipython3",
   "version": "3.9.7"
  }
 },
 "nbformat": 4,
 "nbformat_minor": 5
}
